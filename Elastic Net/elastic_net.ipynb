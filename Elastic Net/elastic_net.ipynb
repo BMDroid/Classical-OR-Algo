{
 "cells": [
  {
   "cell_type": "code",
   "execution_count": 64,
   "metadata": {
    "ExecuteTime": {
     "end_time": "2021-02-01T13:32:05.343767Z",
     "start_time": "2021-02-01T13:32:05.334791Z"
    }
   },
   "outputs": [],
   "source": [
    "import tsplib95\n",
    "import matplotlib.pyplot as plt\n",
    "import numpy as np\n",
    "\n",
    "from tsp import *"
   ]
  },
  {
   "cell_type": "code",
   "execution_count": 65,
   "metadata": {
    "ExecuteTime": {
     "end_time": "2021-02-01T13:32:05.517277Z",
     "start_time": "2021-02-01T13:32:05.506349Z"
    }
   },
   "outputs": [],
   "source": [
    "fileName = 'wi29.tsp'\n",
    "tsp = TSP(tsplib95.load(fileName))"
   ]
  },
  {
   "cell_type": "code",
   "execution_count": 66,
   "metadata": {
    "ExecuteTime": {
     "end_time": "2021-02-01T13:32:05.658330Z",
     "start_time": "2021-02-01T13:32:05.655325Z"
    }
   },
   "outputs": [],
   "source": [
    "def get_central_point(tsp):\n",
    "    coords = np.array(list(tsp._coords.values()))\n",
    "    center = np.mean(coords, axis=0)\n",
    "    return center"
   ]
  },
  {
   "cell_type": "code",
   "execution_count": 75,
   "metadata": {
    "ExecuteTime": {
     "end_time": "2021-02-01T13:33:09.662699Z",
     "start_time": "2021-02-01T13:33:09.632778Z"
    }
   },
   "outputs": [],
   "source": [
    "def get_random_points(tsp, radius=1000):\n",
    "    x, y = get_central_point(tsp) + np.random.randint(1000)\n",
    "    N = tsp._no_nodes\n",
    "    M = int(2.5 * N)\n",
    "    theta_lst = sorted(np.random.uniform(low=0, high=2 * np.pi, size=(M,)))\n",
    "    points = np.array([(x + radius * np.cos(theta), y + radius * np.sin(theta)) for theta in theta_lst])\n",
    "    return points"
   ]
  },
  {
   "cell_type": "code",
   "execution_count": 76,
   "metadata": {
    "ExecuteTime": {
     "end_time": "2021-02-01T13:33:10.047779Z",
     "start_time": "2021-02-01T13:33:10.032160Z"
    }
   },
   "outputs": [],
   "source": [
    "points = get_random_points(tsp, radius=1000) / 2000\n",
    "cities = np.array(list(tsp._coords.values())) / 2000"
   ]
  },
  {
   "cell_type": "code",
   "execution_count": 77,
   "metadata": {
    "ExecuteTime": {
     "end_time": "2021-02-01T13:33:10.764746Z",
     "start_time": "2021-02-01T13:33:10.586977Z"
    }
   },
   "outputs": [
    {
     "data": {
      "image/png": "[encoded data removed]",
      "text/plain": [
       "<Figure size 432x288 with 1 Axes>"
      ]
     },
     "metadata": {
      "needs_background": "light"
     },
     "output_type": "display_data"
    }
   ],
   "source": [
    "X = [x[0] for x in cities]\n",
    "Y = [x[1] for x in cities]\n",
    "\n",
    "# elastic ring\n",
    "x = [x[0] for x in points]\n",
    "y = [x[1] for x in points]\n",
    "\n",
    "fig, ax = plt.subplots()\n",
    "ax.set_aspect('equal')\n",
    "\n",
    "plt.scatter(X, Y, color='blue', marker='*')\n",
    "plt.scatter(x, y, color='red', marker='.')\n",
    "plt.show()"
   ]
  },
  {
   "cell_type": "markdown",
   "metadata": {},
   "source": [
    "# update the position of the points on the path"
   ]
  },
  {
   "cell_type": "code",
   "execution_count": 78,
   "metadata": {
    "ExecuteTime": {
     "end_time": "2021-02-01T13:33:14.015232Z",
     "start_time": "2021-02-01T13:33:14.006289Z"
    }
   },
   "outputs": [],
   "source": [
    "from numpy import linalg as LA\n",
    "from collections import defaultdict"
   ]
  },
  {
   "cell_type": "code",
   "execution_count": 79,
   "metadata": {
    "ExecuteTime": {
     "end_time": "2021-02-01T13:33:14.177868Z",
     "start_time": "2021-02-01T13:33:14.162249Z"
    }
   },
   "outputs": [],
   "source": [
    "def get_nearset_cities(cities, points):\n",
    "        nearest_cities = defaultdict(list)\n",
    "        for i, x in enumerate(cities):\n",
    "            dis = [LA.norm(x - y) for y in points]\n",
    "            j = np.argmin(dis)\n",
    "            nearest_cities[j].append(i)\n",
    "        return nearest_cities"
   ]
  },
  {
   "cell_type": "code",
   "execution_count": 80,
   "metadata": {
    "ExecuteTime": {
     "end_time": "2021-02-01T13:33:14.505915Z",
     "start_time": "2021-02-01T13:33:14.490472Z"
    }
   },
   "outputs": [],
   "source": [
    "def update(cities, points, epoch, alpha=0.2, beta=2.0, K=0.2, n=25):\n",
    "    \n",
    "    def get_w(x, y):\n",
    "        nonlocal K\n",
    "        nonlocal cities\n",
    "        nonlocal nearest_cities\n",
    "        denominator = np.sum([np.exp(-LA.norm(cities[i] - y)**2/(2 * K**2)) for i in nearest_cities[j]])\n",
    "        return np.exp(-LA.norm(x - y)**2 / (2 * K**2)) / denominator\n",
    "    \n",
    "    K = K * (1 - 0.01 * epoch / n)\n",
    "    nearest_cities = get_nearset_cities(cities, points)\n",
    "    delta_y = [None] * len(points)\n",
    "    for j, y in enumerate(points):\n",
    "        delta_y[j] = alpha * np.sum([get_w(cities[i], y) * (cities[i] - y) for i in nearest_cities[j]]) \\\n",
    "                       + beta * K * (points[(j + 1) % len(points) - 1] - 2 * y + points[len(points) - 1 if (j - 1) < 0 else j - 1])\n",
    "    points += np.array(delta_y)\n",
    "    return points"
   ]
  },
  {
   "cell_type": "code",
   "execution_count": 83,
   "metadata": {
    "ExecuteTime": {
     "end_time": "2021-02-01T13:33:34.690678Z",
     "start_time": "2021-02-01T13:33:27.277107Z"
    }
   },
   "outputs": [],
   "source": [
    "for i in range(500):\n",
    "    points = update(cities, points, i)"
   ]
  },
  {
   "cell_type": "code",
   "execution_count": 84,
   "metadata": {
    "ExecuteTime": {
     "end_time": "2021-02-01T13:33:34.866188Z",
     "start_time": "2021-02-01T13:33:34.690678Z"
    }
   },
   "outputs": [
    {
     "data": {
      "image/png": "[encoded data removed]",
      "text/plain": [
       "<Figure size 432x288 with 1 Axes>"
      ]
     },
     "metadata": {
      "needs_background": "light"
     },
     "output_type": "display_data"
    }
   ],
   "source": [
    "X = [x[0]for x in cities]\n",
    "Y = [x[1] for x in cities]\n",
    "\n",
    "# elastic ring\n",
    "x = [x[0] for x in points]\n",
    "y = [x[1] for x in points]\n",
    "\n",
    "fig, ax = plt.subplots()\n",
    "ax.set_aspect('equal')\n",
    "\n",
    "plt.scatter(X, Y, color='blue', marker='*')\n",
    "plt.scatter(x, y, color='red', marker='.')\n",
    "plt.show()"
   ]
  },
  {
   "cell_type": "code",
   "execution_count": null,
   "metadata": {},
   "outputs": [],
   "source": []
  }
 ],
 "metadata": {
  "kernelspec": {
   "display_name": "Machine Learning",
   "language": "python",
   "name": "ml"
  },
  "language_info": {
   "codemirror_mode": {
    "name": "ipython",
    "version": 3
   },
   "file_extension": ".py",
   "mimetype": "text/x-python",
   "name": "python",
   "nbconvert_exporter": "python",
   "pygments_lexer": "ipython3",
   "version": "3.8.5"
  },
  "toc": {
   "base_numbering": 1,
   "nav_menu": {},
   "number_sections": true,
   "sideBar": true,
   "skip_h1_title": false,
   "title_cell": "Table of Contents",
   "title_sidebar": "Contents",
   "toc_cell": false,
   "toc_position": {},
   "toc_section_display": true,
   "toc_window_display": false
  }
 },
 "nbformat": 4,
 "nbformat_minor": 4
}
