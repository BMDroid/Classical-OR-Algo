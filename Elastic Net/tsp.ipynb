{
 "cells": [
  {
   "cell_type": "code",
   "execution_count": 143,
   "metadata": {
    "ExecuteTime": {
     "end_time": "2021-01-28T10:21:16.712844Z",
     "start_time": "2021-01-28T10:21:16.698882Z"
    }
   },
   "outputs": [],
   "source": [
    "import tsplib95\n",
    "import matplotlib.pyplot as plt\n",
    "import numpy as np\n",
    "\n",
    "from tsp import *"
   ]
  },
  {
   "cell_type": "code",
   "execution_count": 144,
   "metadata": {
    "ExecuteTime": {
     "end_time": "2021-01-28T10:21:16.885186Z",
     "start_time": "2021-01-28T10:21:16.869689Z"
    }
   },
   "outputs": [],
   "source": [
    "fileName = 'wi29.tsp'\n",
    "tsp = TSP(tsplib95.load(fileName))"
   ]
  },
  {
   "cell_type": "code",
   "execution_count": 146,
   "metadata": {
    "ExecuteTime": {
     "end_time": "2021-01-28T10:21:17.207065Z",
     "start_time": "2021-01-28T10:21:17.191481Z"
    }
   },
   "outputs": [],
   "source": [
    "def get_central_point(tsp):\n",
    "    coords = np.array(list(tsp._coords.values()))\n",
    "    center = np.mean(coords, axis=0)\n",
    "    return center"
   ]
  },
  {
   "cell_type": "code",
   "execution_count": 150,
   "metadata": {
    "ExecuteTime": {
     "end_time": "2021-01-28T10:23:31.274265Z",
     "start_time": "2021-01-28T10:23:31.261785Z"
    }
   },
   "outputs": [],
   "source": [
    "def get_random_points(tsp, radius=1000):\n",
    "    x, y = get_central_point(tsp)\n",
    "    print(x, y)\n",
    "    N = tsp._no_nodes\n",
    "    M = int(2.5 * N)\n",
    "    theta_lst = sorted(np.random.uniform(low=0, high=2 * np.pi, size=(M,)))\n",
    "    points = [(x + radius * np.cos(theta), y + radius * np.sin(theta)) for theta in theta_lst]\n",
    "    return points"
   ]
  },
  {
   "cell_type": "code",
   "execution_count": 151,
   "metadata": {
    "ExecuteTime": {
     "end_time": "2021-01-28T10:23:32.013506Z",
     "start_time": "2021-01-28T10:23:31.841585Z"
    }
   },
   "outputs": [
    {
     "name": "stdout",
     "output_type": "stream",
     "text": [
      "24798.419531034484 13420.545968965516\n"
     ]
    },
    {
     "data": {
      "image/png": "[encoded data removed]",
      "text/plain": [
       "<Figure size 432x288 with 1 Axes>"
      ]
     },
     "metadata": {
      "needs_background": "light"
     },
     "output_type": "display_data"
    }
   ],
   "source": [
    "X = [x[0] for x in tsp._coords.values()]\n",
    "Y = [x[1] for x in tsp._coords.values()]\n",
    "\n",
    "# elastic ring\n",
    "points = get_random_points(tsp)\n",
    "x = [x[0] for x in points]\n",
    "y = [x[1] for x in points]\n",
    "\n",
    "fig, ax = plt.subplots()\n",
    "ax.set_aspect('equal')\n",
    "\n",
    "plt.scatter(X, Y, color='blue', marker='*')\n",
    "plt.scatter(x, y, color='red', marker='.')\n",
    "plt.show()"
   ]
  }
 ],
 "metadata": {
  "kernelspec": {
   "display_name": "Machine Learning",
   "language": "python",
   "name": "ml"
  },
  "language_info": {
   "codemirror_mode": {
    "name": "ipython",
    "version": 3
   },
   "file_extension": ".py",
   "mimetype": "text/x-python",
   "name": "python",
   "nbconvert_exporter": "python",
   "pygments_lexer": "ipython3",
   "version": "3.8.5"
  },
  "toc": {
   "base_numbering": 1,
   "nav_menu": {},
   "number_sections": true,
   "sideBar": true,
   "skip_h1_title": false,
   "title_cell": "Table of Contents",
   "title_sidebar": "Contents",
   "toc_cell": false,
   "toc_position": {},
   "toc_section_display": true,
   "toc_window_display": false
  }
 },
 "nbformat": 4,
 "nbformat_minor": 4
}
